{
 "cells": [
  {
   "cell_type": "markdown",
   "metadata": {},
   "source": [
    "# Lab | Intro to Probability"
   ]
  },
  {
   "cell_type": "markdown",
   "metadata": {},
   "source": [
    "**Objective**\n",
    "\n",
    "Welcome to this Intro to Probability lab, where we explore decision-making scenarios through the lens of probability and strategic analysis. In the business world, making informed decisions is crucial, especially when faced with uncertainties. This lab focuses on scenarios where probabilistic outcomes play a significant role in shaping strategies and outcomes. Students will engage in exercises that require assessing and choosing optimal paths based on data-driven insights. The goal is to enhance your skills by applying probability concepts to solve real-world problems."
   ]
  },
  {
   "cell_type": "markdown",
   "metadata": {},
   "source": [
    "**Challenge 1**"
   ]
  },
  {
   "cell_type": "markdown",
   "metadata": {},
   "source": [
    "#### Ironhack Airlines \n",
    "\n",
    "Often Airlines sell more tickets than they have seats available, this is called overbooking. Consider the following:\n",
    "- A plane has 450 seats. \n",
    "- Based on historical data we conclude that each individual passenger has a 3% chance of missing it's flight. \n",
    "\n",
    "If the Ironhack Airlines routinely sells 460 tickets, what is the chance that they have a seats for all passenger?"
   ]
  },
  {
   "cell_type": "code",
   "execution_count": 5,
   "metadata": {},
   "outputs": [
    {
     "name": "stdout",
     "output_type": "stream",
     "text": [
      "The probability of seats available for all passengers given the number of tickets sold is 0.9915555555555555\n"
     ]
    }
   ],
   "source": [
    "tickes_sold = 460\n",
    "places_available = 450\n",
    "probability_all_arrive = 0.97\n",
    "probability_seats_available = tickes_sold*probability_all_arrive/places_available\n",
    "print(f\"The probability of seats available for all passengers given the number of tickets sold is {probability_seats_available}\")"
   ]
  },
  {
   "cell_type": "markdown",
   "metadata": {},
   "source": [
    "**Challenge 2**"
   ]
  },
  {
   "cell_type": "markdown",
   "metadata": {},
   "source": [
    "#### Ironhack Call Center "
   ]
  },
  {
   "cell_type": "markdown",
   "metadata": {},
   "source": [
    "Suppose a customer service representative at a call center is handling customer complaints. Consider the following:\n",
    "- The probability of successfully resolving a customer complaint on the first attempt is 0.3. \n",
    "\n",
    "\n",
    "What is the probability that the representative needs to make at least three attempts before successfully resolving a customer complaint?"
   ]
  },
  {
   "cell_type": "code",
   "execution_count": 9,
   "metadata": {},
   "outputs": [
    {
     "name": "stdout",
     "output_type": "stream",
     "text": [
      "The probability of that the representative needs to make at least three attempts before successfully resolving a customer complaint is 0.48999999999999994\n"
     ]
    }
   ],
   "source": [
    "probability_of_failing_first_attempt = 0.7\n",
    "probability_of_failing_second_attempt = 0.7\n",
    "probability_of_failing_on_both_attempts = probability_of_failing_first_attempt*probability_of_failing_second_attempt\n",
    "print(f\"The probability of that the representative needs to make at least three attempts before successfully resolving a customer complaint is {probability_of_failing_on_both_attempts}\")"
   ]
  },
  {
   "cell_type": "markdown",
   "metadata": {},
   "source": [
    "**Challenge 3**"
   ]
  },
  {
   "cell_type": "markdown",
   "metadata": {},
   "source": [
    "#### Ironhack Website"
   ]
  },
  {
   "cell_type": "markdown",
   "metadata": {},
   "source": [
    "Consider a scenario related to Ironhack website traffic. Where:\n",
    "- our website takes on average 500 visits per hour.\n",
    "- the website's server is designed to handle up to 550 vists per hour.\n",
    "\n",
    "\n",
    "What is the probability of the website server being overwhelmed?"
   ]
  },
  {
   "cell_type": "code",
   "execution_count": 48,
   "metadata": {
    "scrolled": true
   },
   "outputs": [
    {
     "name": "stdout",
     "output_type": "stream",
     "text": [
      "Probability of the website server being overwhelmed is 0.09090909090909094\n"
     ]
    }
   ],
   "source": [
    "website_traffic = 500\n",
    "server_traffic = 550\n",
    "probability_overwhelmed = 1 - website_traffic/server_traffic\n",
    "print(f\"Probability of the website server being overwhelmed is {probability_overwhelmed }\")"
   ]
  },
  {
   "cell_type": "markdown",
   "metadata": {},
   "source": [
    "What is the probability of being overwhelmed at some point during a day? (consider 24hours)"
   ]
  },
  {
   "cell_type": "code",
   "execution_count": 59,
   "metadata": {
    "scrolled": true
   },
   "outputs": [
    {
     "name": "stdout",
     "output_type": "stream",
     "text": [
      "Probability of the website server being overwhelmed is 0.03787878787878788\n"
     ]
    }
   ],
   "source": [
    "website_traffic = 500\n",
    "server_traffic = 550\n",
    "\n",
    "probability_overwhelmed_during_day = (website_traffic/server_traffic)*1/24\n",
    "print(f\"Probability of the website server being overwhelmed is {probability_overwhelmed_during_day }\")"
   ]
  },
  {
   "cell_type": "markdown",
   "metadata": {},
   "source": [
    "**Challenge 4**"
   ]
  },
  {
   "cell_type": "markdown",
   "metadata": {},
   "source": [
    "#### Ironhack Helpdesk"
   ]
  },
  {
   "cell_type": "markdown",
   "metadata": {},
   "source": [
    "Consider a scenario related to the time between arrivals of customers at a service desk.\n",
    "\n",
    "On average, a customers arrives every 10minutes.\n",
    "\n",
    "What is the probability that the next customer will arrive within the next 5 minutes?"
   ]
  },
  {
   "cell_type": "code",
   "execution_count": 121,
   "metadata": {},
   "outputs": [
    {
     "name": "stdout",
     "output_type": "stream",
     "text": [
      "Probability that the next customer will not arrive within the next 5 minutes is 0.4360492863215355\n"
     ]
    }
   ],
   "source": [
    "from scipy.stats import expon\n",
    "\n",
    "#the parameter represents the rate of events occuring per unit of time\n",
    "lambda_value = 0.166\n",
    "\n",
    "lambda_inv = expon(scale = 1/lambda_value)\n",
    "\n",
    "lambda_inv.cdf(5)\n",
    "p_not_arriving = 1 - lambda_inv.cdf(5)\n",
    "print (\"Probability that the next customer will not arrive within the next 5 minutes is\", p_not_arriving)"
   ]
  },
  {
   "cell_type": "markdown",
   "metadata": {},
   "source": [
    "If there is no customer for 15minutes, employees can that a 5minutes break.\n",
    "\n",
    "What is the probability an employee taking a break?"
   ]
  },
  {
   "cell_type": "code",
   "execution_count": 123,
   "metadata": {},
   "outputs": [
    {
     "name": "stdout",
     "output_type": "stream",
     "text": [
      "Probability tan employee taking a break is 0.6363348952078394\n"
     ]
    }
   ],
   "source": [
    "p_break = 1- ((1 - lambda_value)*p_not_arriving)\n",
    "\n",
    "print (\"Probability tan employee taking a break is\", p_break)"
   ]
  },
  {
   "cell_type": "markdown",
   "metadata": {},
   "source": [
    "**Challenge 5**"
   ]
  },
  {
   "cell_type": "markdown",
   "metadata": {},
   "source": [
    "The weights of a certain species of birds follow a normal distribution with a mean weight of 150 grams and a standard deviation of 10 grams. \n",
    "\n",
    "- If we randomly select a bird, what is the probability that its weight is between 140 and 160 grams?"
   ]
  },
  {
   "cell_type": "code",
   "execution_count": 107,
   "metadata": {},
   "outputs": [
    {
     "name": "stdout",
     "output_type": "stream",
     "text": [
      "Probability of the weight between 140  and  160  grams is 0.68\n"
     ]
    }
   ],
   "source": [
    "mean = 150\n",
    "st_dev = 10\n",
    "weight1 = 140\n",
    "weight2 = 160\n",
    "st_dev\n",
    "\n",
    "probability1 = 0.68\n",
    "probability2 = 0.95\n",
    "probability3 = 0.99\n",
    "\n",
    "if (mean-weight1)/st_dev ==1 and (weight2-mean)/st_dev==1:\n",
    "    print(f\"Probability of the weight between\", weight1, \" and \", weight2, \" grams is\", probability1 )\n",
    "    \n",
    "elif (mean-weight1)/st_dev ==2 and (weight2-mean)/st_dev==2:\n",
    "    print(f\"Probability of the weight between\", weight1, \" and \", weight2,  \"grams is\" , probability2)\n",
    "else:\n",
    "     print(f\"Probability of the weight between\", weight1, \" and \", weight2,  \"grams is\", probability3)\n",
    "\n"
   ]
  },
  {
   "cell_type": "markdown",
   "metadata": {},
   "source": [
    "**Challenge 6**"
   ]
  },
  {
   "cell_type": "markdown",
   "metadata": {},
   "source": [
    "If the lifetime (in hours) of a certain electronic component follows an exponential distribution with a mean lifetime of 50 hours, what is the probability that the component fails within the first 30 hours?"
   ]
  },
  {
   "cell_type": "code",
   "execution_count": 25,
   "metadata": {},
   "outputs": [],
   "source": []
  }
 ],
 "metadata": {
  "kernelspec": {
   "display_name": "Python 3 (ipykernel)",
   "language": "python",
   "name": "python3"
  },
  "language_info": {
   "codemirror_mode": {
    "name": "ipython",
    "version": 3
   },
   "file_extension": ".py",
   "mimetype": "text/x-python",
   "name": "python",
   "nbconvert_exporter": "python",
   "pygments_lexer": "ipython3",
   "version": "3.12.4"
  }
 },
 "nbformat": 4,
 "nbformat_minor": 4
}
